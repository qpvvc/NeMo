{
    "cells": [
        {
            "cell_type": "code",
            "execution_count": 6,
            "metadata": {
                "colab": {
                    "base_uri": "https://localhost:8080/",
                    "height": 1000
                },
                "colab_type": "code",
                "id": "djqHSONJ20X8",
                "outputId": "c8c161ce-6a9a-49a8-9b92-b062d9da025f"
            },
            "outputs": [],
            "source": [
                "\"\"\"\n",
                "You can run either this notebook locally (if you have all the dependencies and a GPU) or on Google Colab.\n",
                "\n",
                "Instructions for setting up Colab are as follows:\n",
                "1. Open a new Python 3 notebook.\n",
                "2. Import this notebook from GitHub (File -> Upload Notebook -> \"GITHUB\" tab -> copy/paste GitHub URL)\n",
                "3. Connect to an instance with a GPU (Runtime -> Change runtime type -> select \"GPU\" for hardware accelerator)\n",
                "4. Run this cell to set up dependencies.\n",
                "\"\"\"\n",
                "# If you're using Google Colab and not running locally, run this cell\n",
                "\n",
                "# install NeMo\n",
                "BRANCH = 'main'\n",
                "# !python -m pip install git+https://github.com/NVIDIA/NeMo.git@$BRANCH#egg=nemo_toolkit[nlp]"
            ]
        },
        {
            "cell_type": "code",
            "execution_count": null,
            "metadata": {
                "colab": {},
                "colab_type": "code",
                "id": "JFWG-jYCfvD7",
                "pycharm": {
                    "name": "#%%\n"
                }
            },
            "outputs": [],
            "source": [
                "# If you're not using Colab, you might need to upgrade jupyter notebook to avoid the following error:\n",
                "# 'ImportError: IProgress not found. Please update jupyter and ipywidgets.'\n",
                "\n",
                "! pip install ipywidgets\n",
                "! jupyter nbextension enable --py widgetsnbextension\n",
                "\n",
                "# Please restart the kernel after running this cell"
            ]
        },
        {
            "cell_type": "code",
            "execution_count": 1,
            "metadata": {},
            "outputs": [
                {
                    "name": "stdout",
                    "output_type": "stream",
                    "text": [
                        "['/workspace/workspace/Megatron-LM', '/workspace/workspace/NeMo', '/usr/lib/python310.zip', '/usr/lib/python3.10', '/usr/lib/python3.10/lib-dynload', '', '/usr/local/lib/python3.10/dist-packages', '/usr/local/lib/python3.10/dist-packages/nvfuser-0.1.4a0+d0bb811-py3.10-linux-x86_64.egg', '/opt/nemo-data-curator', '/usr/lib/python3/dist-packages']\n"
                    ]
                }
            ],
            "source": [
                "import os\n",
                "import sys\n",
                "from IPython import get_ipython\n",
                "notebook_path = os.path.dirname(get_ipython().getoutput('pwd')[0])\n",
                "\n",
                "\n",
                "nemo_path = os.path.abspath(os.path.join(notebook_path, '../'))\n",
                "megatron_path = os.path.abspath(os.path.join(notebook_path, '../../Megatron-LM'))\n",
                "# transformer_engine_path = os.path.abspath(os.path.join(os.path.dirname(__file__), '../../../../TransformerEngine'))\n",
                "if nemo_path not in sys.path:\n",
                "    sys.path.insert(0,nemo_path)\n",
                "if megatron_path not in sys.path:\n",
                "    sys.path.insert(0,megatron_path)\n",
                "    if '/opt/megatron-lm' in sys.path:\n",
                "        sys.path.remove('/opt/megatron-lm')\n",
                "# if transformer_engine_path not in sys.path:\n",
                "    # sys.path.insert(0,transformer_engine_path)        \n",
                "print(sys.path)"
            ]
        },
        {
            "cell_type": "code",
            "execution_count": 2,
            "metadata": {
                "colab": {
                    "base_uri": "https://localhost:8080/",
                    "height": 124
                },
                "colab_type": "code",
                "id": "CmvtH0pxHDQC",
                "outputId": "fdaddea0-88fe-4207-ee7e-5a6a8ca360bb"
            },
            "outputs": [],
            "source": [
                "import os\n",
                "import wget\n",
                "from nemo.collections import nlp as nemo_nlp\n",
                "from omegaconf import OmegaConf"
            ]
        },
        {
            "cell_type": "markdown",
            "metadata": {
                "colab_type": "text",
                "id": "J6AARcXXUEbs"
            },
            "source": [
                "# Language models\n",
                "\n",
                "Natural Language Processing (NLP) field experienced a huge leap in recent years due to the concept of transfer learning enabled through pretrained language models.\n",
                "\n",
                "[BERT](https://arxiv.org/abs/1810.04805), [RoBERTa](https://arxiv.org/abs/1907.11692), [Megatron-LM](https://arxiv.org/abs/1909.08053), and many other proposed language models achieve state-of-the-art results on many NLP tasks, such as:\n",
                "* question answering\n",
                "* sentiment analysis\n",
                "* named entity recognition and many others.\n",
                "\n",
                "In NeMo, most of the NLP models represent a pretrained language model followed by a Token Classification layer or a Sequence Classification layer or a combination of both. By changing the language model, you can improve the performance of your final model on the specific downstream task you are solving.\n",
                "\n",
                "With NeMo you can use either pretrain a BERT model from your data or use a pretrained language model from [HuggingFace transformers](https://github.com/huggingface/transformers) or [Megatron-LM](https://github.com/NVIDIA/Megatron-LM) libraries.\n",
                "\n",
                "Note: Megatron BERT is not supported in NeMo 1.5.0. Please use [NeMo 1.4.0](https://github.com/NVIDIA/NeMo/tree/r1.4.0) for Megatron BERT support.\n",
                "\n",
                "Let's take a look at the list of available pretrained language models, note the complete list of HuggingFace model could be found at [https://huggingface.co/models](https://huggingface.co/models):\n"
            ]
        },
        {
            "cell_type": "code",
            "execution_count": 3,
            "metadata": {
                "colab": {
                    "base_uri": "https://localhost:8080/",
                    "height": 1000
                },
                "colab_type": "code",
                "id": "zp7F45bgX7SU",
                "outputId": "b87752df-8e50-400b-9e1a-12e05bf175d2"
            },
            "outputs": [
                {
                    "data": {
                        "text/plain": [
                            "['google-bert/bert-base-uncased',\n",
                            " 'google-bert/bert-large-uncased',\n",
                            " 'google-bert/bert-base-cased',\n",
                            " 'google-bert/bert-large-cased',\n",
                            " 'google-bert/bert-base-multilingual-uncased',\n",
                            " 'google-bert/bert-base-multilingual-cased',\n",
                            " 'google-bert/bert-base-chinese',\n",
                            " 'google-bert/bert-base-german-cased',\n",
                            " 'google-bert/bert-large-uncased-whole-word-masking',\n",
                            " 'google-bert/bert-large-cased-whole-word-masking',\n",
                            " 'google-bert/bert-large-uncased-whole-word-masking-finetuned-squad',\n",
                            " 'google-bert/bert-large-cased-whole-word-masking-finetuned-squad',\n",
                            " 'google-bert/bert-base-cased-finetuned-mrpc',\n",
                            " 'google-bert/bert-base-german-dbmdz-cased',\n",
                            " 'google-bert/bert-base-german-dbmdz-uncased',\n",
                            " 'cl-tohoku/bert-base-japanese',\n",
                            " 'cl-tohoku/bert-base-japanese-whole-word-masking',\n",
                            " 'cl-tohoku/bert-base-japanese-char',\n",
                            " 'cl-tohoku/bert-base-japanese-char-whole-word-masking',\n",
                            " 'TurkuNLP/bert-base-finnish-cased-v1',\n",
                            " 'TurkuNLP/bert-base-finnish-uncased-v1',\n",
                            " 'wietsedv/bert-base-dutch-cased',\n",
                            " 'distilbert-base-uncased',\n",
                            " 'distilbert-base-uncased-distilled-squad',\n",
                            " 'distilbert-base-cased',\n",
                            " 'distilbert-base-cased-distilled-squad',\n",
                            " 'distilbert-base-german-cased',\n",
                            " 'distilbert-base-multilingual-cased',\n",
                            " 'distilbert-base-uncased-finetuned-sst-2-english',\n",
                            " 'almanach/camembert-base',\n",
                            " 'Musixmatch/umberto-commoncrawl-cased-v1',\n",
                            " 'Musixmatch/umberto-wikipedia-uncased-v1',\n",
                            " 'FacebookAI/roberta-base',\n",
                            " 'FacebookAI/roberta-large',\n",
                            " 'FacebookAI/roberta-large-mnli',\n",
                            " 'distilbert/distilroberta-base',\n",
                            " 'openai-community/roberta-base-openai-detector',\n",
                            " 'openai-community/roberta-large-openai-detector',\n",
                            " 'albert/albert-base-v1',\n",
                            " 'albert/albert-large-v1',\n",
                            " 'albert/albert-xlarge-v1',\n",
                            " 'albert/albert-xxlarge-v1',\n",
                            " 'albert/albert-base-v2',\n",
                            " 'albert/albert-large-v2',\n",
                            " 'albert/albert-xlarge-v2',\n",
                            " 'albert/albert-xxlarge-v2',\n",
                            " 'openai-community/gpt2',\n",
                            " 'openai-community/gpt2-medium',\n",
                            " 'openai-community/gpt2-large',\n",
                            " 'openai-community/gpt2-xl',\n",
                            " 'distilbert/distilgpt2']"
                        ]
                    },
                    "execution_count": 3,
                    "metadata": {},
                    "output_type": "execute_result"
                }
            ],
            "source": [
                "nemo_nlp.modules.get_pretrained_lm_models_list()"
            ]
        },
        {
            "cell_type": "markdown",
            "metadata": {
                "colab_type": "text",
                "id": "OdpxEiirX8F-"
            },
            "source": [
                "NLP models for downstream tasks use `get_lm_model` helper function to easily switch between language models from the list above to another:"
            ]
        },
        {
            "cell_type": "code",
            "execution_count": 4,
            "metadata": {
                "colab": {
                    "base_uri": "https://localhost:8080/",
                    "height": 1000
                },
                "colab_type": "code",
                "id": "5zllsvBojxuJ",
                "outputId": "1c6e9878-2e82-460a-d890-30073bb11994"
            },
            "outputs": [
                {
                    "name": "stdout",
                    "output_type": "stream",
                    "text": [
                        "{'language_model': {'pretrained_model_name': 'distilbert-base-uncased'}, 'tokenizer': {}}\n"
                    ]
                }
            ],
            "source": [
                "# use any pretrained model name from the list above\n",
                "pretrained_model_name = 'distilbert-base-uncased'\n",
                "config = {\"language_model\": {\"pretrained_model_name\": pretrained_model_name}, \"tokenizer\": {}}\n",
                "omega_conf = OmegaConf.create(config)\n",
                "print(omega_conf)\n",
                "# nemo_nlp.modules.get_lm_model(cfg=omega_conf)"
            ]
        },
        {
            "cell_type": "markdown",
            "metadata": {
                "colab_type": "text",
                "id": "jEgEo0aPj3Ws"
            },
            "source": [
                "All NeMo [NLP models](https://github.com/NVIDIA/NeMo/tree/main/examples/nlp) have an associated config file. As an example, let's examine the config file for the Named Entity Recognition (NER) model (more details about the model and the NER task could be found [here](https://github.com/NVIDIA/NeMo/blob/stable/tutorials/nlp/Token_Classification_Named_Entity_Recognition.ipynb))."
            ]
        },
        {
            "cell_type": "code",
            "execution_count": 7,
            "metadata": {
                "colab": {
                    "base_uri": "https://localhost:8080/",
                    "height": 35
                },
                "colab_type": "code",
                "id": "T1gA8PsJ13MJ",
                "outputId": "326a3673-a814-422a-bde3-e61ba4f20fc4"
            },
            "outputs": [
                {
                    "name": "stdout",
                    "output_type": "stream",
                    "text": [
                        "Downloading config file...\n"
                    ]
                }
            ],
            "source": [
                "MODEL_CONFIG = \"token_classification_config.yaml\"\n",
                "\n",
                "# download the model's configuration file \n",
                "if not os.path.exists(MODEL_CONFIG):\n",
                "    print('Downloading config file...')\n",
                "    wget.download(f'https://raw.githubusercontent.com/NVIDIA/NeMo/{BRANCH}/examples/nlp/token_classification/conf/' + MODEL_CONFIG)\n",
                "else:\n",
                "    print ('Config file already exists')"
            ]
        },
        {
            "cell_type": "code",
            "execution_count": 8,
            "metadata": {
                "colab": {
                    "base_uri": "https://localhost:8080/",
                    "height": 1000
                },
                "colab_type": "code",
                "id": "mX3KmWMvSUQw",
                "outputId": "bf9b174f-f3b1-4387-9c66-29170dec48cf"
            },
            "outputs": [
                {
                    "name": "stdout",
                    "output_type": "stream",
                    "text": [
                        "pretrained_model: null\n",
                        "trainer:\n",
                        "  devices: 1\n",
                        "  num_nodes: 1\n",
                        "  max_epochs: 5\n",
                        "  max_steps: -1\n",
                        "  accumulate_grad_batches: 1\n",
                        "  gradient_clip_val: 0.0\n",
                        "  precision: 16\n",
                        "  accelerator: gpu\n",
                        "  enable_checkpointing: false\n",
                        "  logger: false\n",
                        "  log_every_n_steps: 1\n",
                        "  val_check_interval: 1.0\n",
                        "exp_manager:\n",
                        "  exp_dir: null\n",
                        "  name: token_classification_model\n",
                        "  create_tensorboard_logger: true\n",
                        "  create_checkpoint_callback: true\n",
                        "model:\n",
                        "  label_ids: null\n",
                        "  class_labels:\n",
                        "    class_labels_file: label_ids.csv\n",
                        "  dataset:\n",
                        "    data_dir: ???\n",
                        "    class_balancing: null\n",
                        "    max_seq_length: 128\n",
                        "    pad_label: O\n",
                        "    ignore_extra_tokens: false\n",
                        "    ignore_start_end: false\n",
                        "    use_cache: false\n",
                        "    num_workers: 2\n",
                        "    pin_memory: false\n",
                        "    drop_last: false\n",
                        "  train_ds:\n",
                        "    text_file: text_train.txt\n",
                        "    labels_file: labels_train.txt\n",
                        "    shuffle: true\n",
                        "    num_samples: -1\n",
                        "    batch_size: 64\n",
                        "  validation_ds:\n",
                        "    text_file: text_dev.txt\n",
                        "    labels_file: labels_dev.txt\n",
                        "    shuffle: false\n",
                        "    num_samples: -1\n",
                        "    batch_size: 64\n",
                        "  test_ds:\n",
                        "    text_file: text_dev.txt\n",
                        "    labels_file: labels_dev.txt\n",
                        "    shuffle: false\n",
                        "    num_samples: -1\n",
                        "    batch_size: 64\n",
                        "  tokenizer:\n",
                        "    tokenizer_name: ${model.language_model.pretrained_model_name}\n",
                        "    vocab_file: null\n",
                        "    tokenizer_model: null\n",
                        "    special_tokens: null\n",
                        "  language_model:\n",
                        "    pretrained_model_name: bert-base-uncased\n",
                        "    lm_checkpoint: null\n",
                        "    config_file: null\n",
                        "    config: null\n",
                        "  head:\n",
                        "    num_fc_layers: 2\n",
                        "    fc_dropout: 0.5\n",
                        "    activation: relu\n",
                        "    use_transformer_init: true\n",
                        "  optim:\n",
                        "    name: adam\n",
                        "    lr: 5.0e-05\n",
                        "    weight_decay: 0.0\n",
                        "    sched:\n",
                        "      name: WarmupAnnealing\n",
                        "      warmup_steps: null\n",
                        "      warmup_ratio: 0.1\n",
                        "      last_epoch: -1\n",
                        "      monitor: val_loss\n",
                        "      reduce_on_plateau: false\n",
                        "hydra:\n",
                        "  run:\n",
                        "    dir: .\n",
                        "  job_logging:\n",
                        "    root:\n",
                        "      handlers: null\n",
                        "\n"
                    ]
                }
            ],
            "source": [
                "# this line will print the entire config of the model\n",
                "config = OmegaConf.load(MODEL_CONFIG)\n",
                "print(OmegaConf.to_yaml(config))"
            ]
        },
        {
            "cell_type": "markdown",
            "metadata": {
                "colab_type": "text",
                "id": "PKFbFDwzKUZB"
            },
            "source": [
                "For this tutorial, we are interested in the language_model part of the Named Entity Recognition Model."
            ]
        },
        {
            "cell_type": "code",
            "execution_count": 9,
            "metadata": {
                "colab": {
                    "base_uri": "https://localhost:8080/",
                    "height": 104
                },
                "colab_type": "code",
                "id": "v6hlcCYyKFiY",
                "outputId": "0fc8a4e4-978b-406f-e9ef-981f527ccedd"
            },
            "outputs": [
                {
                    "name": "stdout",
                    "output_type": "stream",
                    "text": [
                        "pretrained_model_name: bert-base-uncased\n",
                        "lm_checkpoint: null\n",
                        "config_file: null\n",
                        "config: null\n",
                        "\n"
                    ]
                }
            ],
            "source": [
                "print(OmegaConf.to_yaml(config.model.language_model))"
            ]
        },
        {
            "cell_type": "markdown",
            "metadata": {
                "colab_type": "text",
                "id": "xldsDiH9ZY2h"
            },
            "source": [
                "There might be slight differences from one model to another, but most of them have the following important parameters associated with the language model:\n",
                "* `pretrained_model_name` - a name of the pretrained model from either HuggingFace or Megatron-LM libraries, for example, bert-base-uncased or megatron-bert-345m-uncased.\n",
                "* `lm_checkpoint` - a path to the pretrained model checkpoint if, for example, you trained a BERT model with your data\n",
                "* `config_file` -  path to the model configuration file\n",
                "* `config` or `config_dict` - path to the model configuration dictionary\n",
                "\n",
                "To modify the default language model, specify the desired language model name with the `model.language_model.pretrained_model_name` argument, like this:"
            ]
        },
        {
            "cell_type": "code",
            "execution_count": null,
            "metadata": {
                "colab": {},
                "colab_type": "code",
                "id": "5r_1gIXwashY"
            },
            "outputs": [],
            "source": [
                "config.model.language_model.pretrained_model_name = 'roberta-base'"
            ]
        },
        {
            "cell_type": "markdown",
            "metadata": {
                "colab_type": "text",
                "id": "EVp4zvxPatga"
            },
            "source": [
                "and then start the training as usual (please see [tutorials/nlp](https://github.com/NVIDIA/NeMo/tree/main/tutorials/nlp) for more details about training of a particular model). \n",
                "\n",
                "You can also provide a pretrained language model checkpoint and a configuration file if available.\n",
                "\n",
                "Note, that `pretrained_model_name` is used to set up both Language Model and Tokenizer.\n",
                "\n",
                "All the above holds for both HuggingFace and Megatron-LM pretrained language models. Let's separately examine some specifics of finetuning with Megatron-LM and HuggingFace models."
            ]
        },
        {
            "cell_type": "markdown",
            "metadata": {
                "colab_type": "text",
                "id": "Wi_LBdSA4U6Q"
            },
            "source": [
                "# Downstream tasks with Megatron and BioMegatron Language Models\n",
                "\n",
                "[Megatron-LM: Training Multi-Billion Parameter Language Models Using Model Parallelism](https://arxiv.org/abs/1909.08053) is a large, powerful transformer developed by the Applied Deep Learning Research team at NVIDIA. More details could be found at [Megatron-LM github repo](https://github.com/NVIDIA/Megatron-LM).\n",
                "\n",
                "Note: Megatron BERT is not supported in NeMo 1.5.0. Please use [NeMo 1.4.0](https://github.com/NVIDIA/NeMo/tree/r1.4.0) for Megatron BERT support.\n",
                "\n",
                "To see the list of available Megatron-LM models in NeMo, run:"
            ]
        },
        {
            "cell_type": "code",
            "execution_count": null,
            "metadata": {
                "colab": {
                    "base_uri": "https://localhost:8080/",
                    "height": 121
                },
                "colab_type": "code",
                "id": "0o-XPMrIQBmm",
                "outputId": "7a7e0419-e9a1-48b3-b6bf-4d2863f69f46"
            },
            "outputs": [],
            "source": [
                "#nemo_nlp.modules.get_megatron_lm_models_list()"
            ]
        },
        {
            "cell_type": "markdown",
            "metadata": {
                "colab_type": "text",
                "id": "FM_ei7OSLn1X"
            },
            "source": [
                "If you want to use one of the available Megatron-LM models, specify its name with `model.language_model.pretrained_model_name` argument, for example:"
            ]
        },
        {
            "cell_type": "code",
            "execution_count": null,
            "metadata": {
                "colab": {},
                "colab_type": "code",
                "id": "RmcQLoouME8k"
            },
            "outputs": [],
            "source": [
                "#config.model.language_model.pretrained_model_name = 'megatron-bert-345m-uncased'"
            ]
        },
        {
            "cell_type": "markdown",
            "metadata": {
                "colab_type": "text",
                "id": "mla-BZexMM2u"
            },
            "source": [
                "If you have a different checkpoint or a model configuration file, use these general Megatron-LM model names:\n",
                "* `megatron-bert-uncased` or \n",
                "* `megatron-bert-cased` \n",
                "\n",
                "and provide associated bert_config and bert_checkpoint files, as follows:\n",
                "\n",
                "`model.language_model.pretrained_model_name=megatron-bert-uncased \\\n",
                "model.language_model.lm_checkpoint=<PATH_TO_CHECKPOINT> \\\n",
                "model.language_model.config_file=<PAHT_TO_CONFIG>`\n",
                " \n",
                " or \n",
                " \n",
                "`model.language_model.pretrained_model_name=megatron-bert-cased \\\n",
                "model.language_model.lm_checkpoint=<PATH_TO_CHECKPOINT> \\\n",
                "model.language_model.config_file=<PAHT_TO_CONFIG>`\n",
                "\n",
                "The general Megatron-LM model names are used to download the correct vocabulary file needed to setup the model correctly. Note, the data preprocessing and model training is done in NeMo. Megatron-LM has its own set of training arguments (including tokenizer) that are ignored during finetuning in NeMo. Please see downstream task [config files and training scripts](https://github.com/NVIDIA/NeMo/tree/main/examples/nlp) for all NeMo supported arguments.\n",
                "\n",
                "## Download pretrained model\n",
                "\n",
                "With NeMo, the original and domain-specific Megatron-LM BERT models and model configuration files will be downloaded automatically, but they also could be downloaded with the links below:\n",
                "\n",
                "[Megatron-LM BERT Uncased 345M (~345M parameters): https://ngc.nvidia.com/catalog/models/nvidia:megatron_bert_345m](https://ngc.nvidia.com/catalog/models/nvidia:megatron_bert_345m/files?version=v0.1_uncased)\n",
                "\n",
                "[Megatron-LM BERT Cased 345M (~345M parameters): https://ngc.nvidia.com/catalog/models/nvidia:megatron_bert_345m](https://ngc.nvidia.com/catalog/models/nvidia:megatron_bert_345m/files?version=v0.1_cased)\n",
                "\n",
                "[BioMegatron-LM BERT Cased 345M (~345M parameters): https://ngc.nvidia.com/catalog/models/nvidia:biomegatron345mcased](https://ngc.nvidia.com/catalog/models/nvidia:biomegatron345mcased)\n",
                "\n",
                "[BioMegatron-LM BERT Uncased 345M (~345M parameters)](https://ngc.nvidia.com/catalog/models/nvidia:biomegatron345muncased): https://ngc.nvidia.com/catalog/models/nvidia:biomegatron345muncased"
            ]
        },
        {
            "cell_type": "markdown",
            "metadata": {
                "colab_type": "text",
                "id": "caafJmVLmEVD"
            },
            "source": [
                "# Using any HuggingFace Pretrained Model\n",
                "\n",
                "Currently, there are 4 HuggingFace language models that have the most extensive support in [NeMo](https://github.com/NVIDIA/NeMo/tree/main/nemo/collections/nlp/modules/common/huggingface): \n",
                "\n",
                "* BERT\n",
                "* RoBERTa\n",
                "* ALBERT\n",
                "* DistilBERT\n",
                "\n",
                "As was mentioned before, just set `model.language_model.pretrained_model_name` to the desired model name in your config and get_lm_model() will take care of the rest.\n",
                "\n",
                "If you want to use another language model from [https://huggingface.co/models](https://huggingface.co/models), use HuggingFace API directly in NeMo.\n",
                "More details on model training could be found at [tutorials](https://github.com/NVIDIA/NeMo/tree/main/tutorials)."
            ]
        }
    ],
    "metadata": {
        "accelerator": "GPU",
        "colab": {
            "collapsed_sections": [],
            "name": "01_Pretrained_Language_Models_for_Downstream_Tasks.ipynb",
            "provenance": [],
            "toc_visible": true
        },
        "kernelspec": {
            "display_name": "Python 3",
            "language": "python",
            "name": "python3"
        },
        "language_info": {
            "codemirror_mode": {
                "name": "ipython",
                "version": 3
            },
            "file_extension": ".py",
            "mimetype": "text/x-python",
            "name": "python",
            "nbconvert_exporter": "python",
            "pygments_lexer": "ipython3",
            "version": "3.10.12"
        }
    },
    "nbformat": 4,
    "nbformat_minor": 1
}
